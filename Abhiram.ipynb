{
 "cells": [
  {
   "cell_type": "markdown",
   "id": "88e61c42",
   "metadata": {},
   "source": [
    "# Abhiram T cse_02"
   ]
  },
  {
   "cell_type": "code",
   "execution_count": 1,
   "id": "f52cbad7",
   "metadata": {},
   "outputs": [],
   "source": [
    "#1.write the output of the following\n",
    "#k=['a','b','c','d']\n",
    "#print(k[-1:-7:-1])"
   ]
  },
  {
   "cell_type": "code",
   "execution_count": 2,
   "id": "95ec1af4",
   "metadata": {},
   "outputs": [
    {
     "name": "stdout",
     "output_type": "stream",
     "text": [
      "['d', 'c', 'b', 'a']\n"
     ]
    }
   ],
   "source": [
    "k=['a','b','c','d']\n",
    "print(k[-1:-7:-1])"
   ]
  },
  {
   "cell_type": "code",
   "execution_count": 3,
   "id": "7853250c",
   "metadata": {},
   "outputs": [],
   "source": [
    "#2.reverse a list using Python\n",
    "#list1=['100','200','300','400','500']"
   ]
  },
  {
   "cell_type": "code",
   "execution_count": 4,
   "id": "e9e86014",
   "metadata": {},
   "outputs": [
    {
     "name": "stdout",
     "output_type": "stream",
     "text": [
      "['500', '400', '300', '200', '100']\n"
     ]
    }
   ],
   "source": [
    "list1=['100','200','300','400','500']\n",
    "list1.reverse()\n",
    "print(list1)"
   ]
  },
  {
   "cell_type": "code",
   "execution_count": 5,
   "id": "47edec13",
   "metadata": {},
   "outputs": [],
   "source": [
    "#4. write a python program to find the square of 5"
   ]
  },
  {
   "cell_type": "code",
   "execution_count": 6,
   "id": "bcbc7147",
   "metadata": {},
   "outputs": [
    {
     "name": "stdout",
     "output_type": "stream",
     "text": [
      "25\n"
     ]
    }
   ],
   "source": [
    "n=5\n",
    "x=n**2\n",
    "print(x)"
   ]
  },
  {
   "cell_type": "code",
   "execution_count": 7,
   "id": "d148d3ce",
   "metadata": {},
   "outputs": [],
   "source": [
    "#5.write a python program to find the sum of all items in a dictionary\n",
    "#Input:{'a':100,'b':200,'c':300}\n"
   ]
  },
  {
   "cell_type": "code",
   "execution_count": 8,
   "id": "059ebaa6",
   "metadata": {},
   "outputs": [
    {
     "name": "stdout",
     "output_type": "stream",
     "text": [
      "600\n"
     ]
    }
   ],
   "source": [
    "d = {\n",
    "   'a': 100,\n",
    "   'b': 200,\n",
    "   'c': 300\n",
    "}\n",
    "print(sum(d.values()))"
   ]
  },
  {
   "cell_type": "code",
   "execution_count": 9,
   "id": "67460a8a",
   "metadata": {},
   "outputs": [],
   "source": [
    "#7.write a program to construct the following pattern,using a nested for loop\n",
    "#*\n",
    "#**\n",
    "#***\n",
    "#****\n",
    "#*****\n",
    "#****\n",
    "#***\n",
    "#**\n",
    "#*"
   ]
  },
  {
   "cell_type": "code",
   "execution_count": 10,
   "id": "1cfb2415",
   "metadata": {},
   "outputs": [
    {
     "name": "stdout",
     "output_type": "stream",
     "text": [
      "Enter the number of rows=5\n",
      "\n",
      "* \n",
      "* * \n",
      "* * * \n",
      "* * * * \n",
      "* * * * * \n",
      "* * * * \n",
      "* * * \n",
      "* * \n",
      "* \n"
     ]
    }
   ],
   "source": [
    "n=int(input('Enter the number of rows='))\n",
    "for i in range(0,n):\n",
    "    for j in range(0,i):\n",
    "        print('*',end=' ')\n",
    "    print()\n",
    "for i in range(n,0,-1):\n",
    "    for j in range(i):\n",
    "        print('*',end=' ')\n",
    "    print('')"
   ]
  },
  {
   "cell_type": "code",
   "execution_count": 11,
   "id": "f91c05d7",
   "metadata": {},
   "outputs": [],
   "source": [
    "#8. write a Python function to calculate the factorial of a number (a non negative integer).The function accepts the number\n",
    "#as an argument\n",
    "#sample input:3,sample output:6"
   ]
  },
  {
   "cell_type": "code",
   "execution_count": 12,
   "id": "80f573c6",
   "metadata": {},
   "outputs": [
    {
     "name": "stdout",
     "output_type": "stream",
     "text": [
      "Enter a value=3\n",
      "Answer = 6\n"
     ]
    }
   ],
   "source": [
    "def mthd2(n):\n",
    "    f=1\n",
    "    for i in range(1,n+1):\n",
    "        f=f*i\n",
    "    print('Answer =',f)\n",
    "x=int(input('Enter a value='))\n",
    "mthd2(x)"
   ]
  },
  {
   "cell_type": "code",
   "execution_count": 13,
   "id": "64af39d3",
   "metadata": {},
   "outputs": [],
   "source": [
    "#9.Display all duplicate items from a list given:\n",
    "#10,20,60,30,20,40,30,60,70,80"
   ]
  },
  {
   "cell_type": "code",
   "execution_count": 14,
   "id": "b87c30a4",
   "metadata": {},
   "outputs": [
    {
     "name": "stdout",
     "output_type": "stream",
     "text": [
      "20 30 60 "
     ]
    }
   ],
   "source": [
    "l=[10,20,60,30,20,40,30,60,70,80]\n",
    "l1=[]\n",
    "for i in l:\n",
    "    if i not in l1:\n",
    "        l1.append(i)\n",
    "    else:\n",
    "        print(i,end=' ')"
   ]
  },
  {
   "cell_type": "code",
   "execution_count": 15,
   "id": "a5265aff",
   "metadata": {},
   "outputs": [],
   "source": [
    "#12. Modify the element of a nested list inside the following list:\n",
    "#Sample input : list1 = [5, [10, 15, [20, 25, [30, 35], 40], 45], 50]\n",
    "#Change the element 35 to 3500"
   ]
  },
  {
   "cell_type": "code",
   "execution_count": 16,
   "id": "7ab71a3e",
   "metadata": {},
   "outputs": [
    {
     "name": "stdout",
     "output_type": "stream",
     "text": [
      "[5, [10, 15, [20, 25, [30, 3500], 40], 45], 50]\n"
     ]
    }
   ],
   "source": [
    "list_1 =[5, [10, 15, [20, 25, [30, 35], 40], 45], 50]\n",
    "list_1[1][2][2][1]=3500\n",
    "print(list_1)"
   ]
  },
  {
   "cell_type": "code",
   "execution_count": 17,
   "id": "6e866006",
   "metadata": {},
   "outputs": [],
   "source": [
    "#11. Write a python program to print the numbers from a given number n till 0 using recursion"
   ]
  },
  {
   "cell_type": "code",
   "execution_count": 1,
   "id": "53e9ae3d",
   "metadata": {},
   "outputs": [
    {
     "name": "stdout",
     "output_type": "stream",
     "text": [
      "10\n",
      "9\n",
      "8\n",
      "7\n",
      "6\n",
      "5\n",
      "4\n",
      "3\n",
      "2\n",
      "1\n",
      "0\n"
     ]
    }
   ],
   "source": [
    "def print_numbers(n): \n",
    "  if n == 0: \n",
    "    print(n) \n",
    "    return \n",
    "  print(n) \n",
    "  print_numbers(n - 1) \n",
    "num=10 \n",
    "print_numbers(num)"
   ]
  },
  {
   "cell_type": "code",
   "execution_count": 2,
   "id": "30d9a0c2",
   "metadata": {},
   "outputs": [],
   "source": [
    "#13. Write a while loop to display only alphabets from a string.\n",
    "#Hint: In this question, print only the letters from a string by\n",
    "#skipping all digits and special symbols"
   ]
  },
  {
   "cell_type": "code",
   "execution_count": 7,
   "id": "d880a25d",
   "metadata": {},
   "outputs": [
    {
     "name": "stdout",
     "output_type": "stream",
     "text": [
      "HelloWorld"
     ]
    }
   ],
   "source": [
    "string = \"Hello, World! 123\"\n",
    "i = 0\n",
    "while i < len(string):\n",
    "  if string[i].isalpha():\n",
    "    print(string[i], end=\"\")\n",
    "  i += 1"
   ]
  },
  {
   "cell_type": "code",
   "execution_count": null,
   "id": "73eecf1c",
   "metadata": {},
   "outputs": [],
   "source": []
  }
 ],
 "metadata": {
  "kernelspec": {
   "display_name": "Python 3 (ipykernel)",
   "language": "python",
   "name": "python3"
  },
  "language_info": {
   "codemirror_mode": {
    "name": "ipython",
    "version": 3
   },
   "file_extension": ".py",
   "mimetype": "text/x-python",
   "name": "python",
   "nbconvert_exporter": "python",
   "pygments_lexer": "ipython3",
   "version": "3.9.13"
  }
 },
 "nbformat": 4,
 "nbformat_minor": 5
}
